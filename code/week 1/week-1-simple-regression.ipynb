{
 "cells": [
  {
   "cell_type": "code",
   "execution_count": 1,
   "metadata": {
    "collapsed": true,
    "hideCode": false,
    "hidePrompt": false
   },
   "outputs": [],
   "source": [
    "import pandas as pd\n",
    "import numpy as np\n",
    "\n",
    "from sklearn import linear_model"
   ]
  },
  {
   "cell_type": "markdown",
   "metadata": {
    "hideCode": false,
    "hidePrompt": false
   },
   "source": [
    "## Steps 1 & 2\n",
    "1. Read data\n",
    "2. Split them into training and testing data"
   ]
  },
  {
   "cell_type": "code",
   "execution_count": 5,
   "metadata": {
    "collapsed": true,
    "hideCode": false,
    "hidePrompt": false
   },
   "outputs": [],
   "source": [
    "train_data = pd.read_csv('kc_house_train_data.csv')\n",
    "test_data = pd.read_csv('kc_house_test_data.csv')"
   ]
  },
  {
   "cell_type": "markdown",
   "metadata": {
    "hideCode": false,
    "hidePrompt": false
   },
   "source": [
    "## Step 3\n",
    "- Calculating slope and intercept with simple regression"
   ]
  },
  {
   "cell_type": "code",
   "execution_count": 38,
   "metadata": {
    "collapsed": true,
    "hideCode": false,
    "hidePrompt": false
   },
   "outputs": [],
   "source": [
    "def simple_linear_regression(input_feature, output):\n",
    "    model = linear_model.LinearRegression()\n",
    "    model.fit(input_feature, output)\n",
    "    return model.intercept_, model.coef_"
   ]
  },
  {
   "cell_type": "markdown",
   "metadata": {
    "hideCode": false,
    "hidePrompt": false
   },
   "source": [
    "## Step 4\n",
    "- Predict ‘price’ given ‘sqft_living’"
   ]
  },
  {
   "cell_type": "code",
   "execution_count": 40,
   "metadata": {
    "hideCode": false,
    "hidePrompt": false
   },
   "outputs": [
    {
     "name": "stdout",
     "output_type": "stream",
     "text": [
      "[-47116.07907289] [[ 281.95883963]]\n"
     ]
    }
   ],
   "source": [
    "sqft_living = train_data.loc[:, 'sqft_living'].values\n",
    "sqft_living = np.reshape(sqft_living, (len(sqft_living), 1))\n",
    "price = train_data.loc[:, 'price'].values\n",
    "price = np.reshape(price, (len(price), 1))\n",
    "\n",
    "intercept, slope = simple_linear_regression(sqft_living, price)\n",
    "print(intercept, slope)"
   ]
  },
  {
   "cell_type": "markdown",
   "metadata": {
    "hideCode": false,
    "hidePrompt": false
   },
   "source": [
    "## Step 5\n",
    "- Implementing predicting function"
   ]
  },
  {
   "cell_type": "code",
   "execution_count": 42,
   "metadata": {
    "collapsed": true,
    "hideCode": false,
    "hidePrompt": false
   },
   "outputs": [],
   "source": [
    "def get_regression_predictions(input_feature, intercept, slope):\n",
    "    predicted_output = intercept + (input_feature * slope)\n",
    "    return predicted_output"
   ]
  },
  {
   "cell_type": "markdown",
   "metadata": {
    "hideCode": false,
    "hidePrompt": false
   },
   "source": [
    "## Step 6\n",
    "Quiz Question: Using your Slope and Intercept from (4), What is the predicted price for a house with 2650 sqft?"
   ]
  },
  {
   "cell_type": "code",
   "execution_count": 43,
   "metadata": {
    "hideCode": false,
    "hidePrompt": false
   },
   "outputs": [
    {
     "name": "stdout",
     "output_type": "stream",
     "text": [
      "[[ 700074.84594751]]\n"
     ]
    }
   ],
   "source": [
    "print(get_regression_predictions(2650, intercept, slope))"
   ]
  },
  {
   "cell_type": "markdown",
   "metadata": {
    "hideCode": false,
    "hidePrompt": false
   },
   "source": [
    "## Step 7\n",
    "- Implementing residual_sum_of_squares function"
   ]
  },
  {
   "cell_type": "code",
   "execution_count": 50,
   "metadata": {
    "collapsed": true,
    "hideCode": false,
    "hidePrompt": false
   },
   "outputs": [],
   "source": [
    "def get_residual_sum_of_squares(input_feature, output, intercept, slope):\n",
    "    predicted_output = intercept + (input_feature * slope)\n",
    "    RSS = sum((output - predicted_output) ** 2)\n",
    "    return RSS"
   ]
  },
  {
   "cell_type": "markdown",
   "metadata": {
    "hideCode": false,
    "hidePrompt": false
   },
   "source": [
    "## Step 8\n",
    "Quiz Question: What is the RSS for the simple linear regression using squarefeet to predict prices on TRAINING data?"
   ]
  },
  {
   "cell_type": "code",
   "execution_count": 51,
   "metadata": {
    "hideCode": false,
    "hidePrompt": false
   },
   "outputs": [
    {
     "name": "stdout",
     "output_type": "stream",
     "text": [
      "[  1.20191835e+15]\n"
     ]
    }
   ],
   "source": [
    "print(get_residual_sum_of_squares(sqft_living, price, intercept, slope))"
   ]
  },
  {
   "cell_type": "markdown",
   "metadata": {
    "hideCode": false,
    "hidePrompt": false
   },
   "source": [
    "## Step 9\n",
    "- Implementing inverse_regression_predictions function"
   ]
  },
  {
   "cell_type": "code",
   "execution_count": 52,
   "metadata": {
    "collapsed": true,
    "hideCode": false,
    "hidePrompt": false
   },
   "outputs": [],
   "source": [
    "def inverse_regression_predictions(output, intercept, slope):\n",
    "    estimated_input = (output - intercept) / slope\n",
    "    return estimated_input"
   ]
  },
  {
   "cell_type": "markdown",
   "metadata": {
    "hideCode": false,
    "hidePrompt": false
   },
   "source": [
    "## Step 10\n",
    "Quiz Question: According to this function and the regression slope and intercept from (3) what is the estimated square-feet for a house costing $800,000?"
   ]
  },
  {
   "cell_type": "code",
   "execution_count": 53,
   "metadata": {
    "hideCode": false,
    "hidePrompt": false
   },
   "outputs": [
    {
     "name": "stdout",
     "output_type": "stream",
     "text": [
      "[[ 3004.39624515]]\n"
     ]
    }
   ],
   "source": [
    "print(inverse_regression_predictions(800000, intercept, slope))"
   ]
  },
  {
   "cell_type": "markdown",
   "metadata": {
    "hideCode": false,
    "hidePrompt": false
   },
   "source": [
    "## Step 11\n",
    "Use ‘bedrooms’ (a count of the number of bedrooms in the house) to estimate prices."
   ]
  },
  {
   "cell_type": "code",
   "execution_count": 55,
   "metadata": {
    "hideCode": false,
    "hidePrompt": false
   },
   "outputs": [
    {
     "name": "stdout",
     "output_type": "stream",
     "text": [
      "[ 109473.17762296] [[ 127588.95293399]]\n"
     ]
    }
   ],
   "source": [
    "bedrooms = train_data.loc[:, 'bedrooms'].values\n",
    "bedrooms = np.reshape(bedrooms, (len(bedrooms), 1))\n",
    "bd_intercept, bd_slope = simple_linear_regression(bedrooms, price)\n",
    "print(bd_intercept, bd_slope)"
   ]
  },
  {
   "cell_type": "markdown",
   "metadata": {
    "hideCode": false,
    "hidePrompt": false
   },
   "source": [
    "## Step 12\n",
    "Now that we have 2 different models compute the RSS from BOTH models on TEST data."
   ]
  },
  {
   "cell_type": "code",
   "execution_count": 72,
   "metadata": {
    "hideCode": false,
    "hidePrompt": false
   },
   "outputs": [
    {
     "name": "stdout",
     "output_type": "stream",
     "text": [
      "Using bedrooms: [  4.93364586e+14]\n",
      "Using sqft_living: [  2.75402934e+14]\n"
     ]
    }
   ],
   "source": [
    "test_sqft_living = test_data.loc[:, 'sqft_living'].values\n",
    "test_sqft_living = np.reshape(test_sqft_living, (len(test_sqft_living), 1))\n",
    "test_bedrooms = test_data.loc[:, 'bedrooms'].values\n",
    "test_bedrooms = np.reshape(test_bedrooms, (len(test_bedrooms), 1))\n",
    "\n",
    "test_price = test_data.loc[:, 'price'].values\n",
    "test_price = np.reshape(test_price, (len(test_price), 1))\n",
    "\n",
    "print('Using bedrooms: {0}\\nUsing sqft_living: {1}'.format(\n",
    "    get_residual_sum_of_squares(test_bedrooms, test_price, bd_intercept, bd_slope),\n",
    "    get_residual_sum_of_squares(test_sqft_living, test_price, intercept, slope)\n",
    "))"
   ]
  },
  {
   "cell_type": "markdown",
   "metadata": {
    "hideCode": false,
    "hidePrompt": false
   },
   "source": [
    "## Step 13\n",
    "Quiz Question: Which model (square feet or bedrooms) has lowest RSS on TEST data? Think about why this might be the case."
   ]
  }
 ],
 "metadata": {
  "hide_code_all_hidden": false,
  "kernelspec": {
   "display_name": "Python 3",
   "language": "python",
   "name": "python3"
  },
  "language_info": {
   "codemirror_mode": {
    "name": "ipython",
    "version": 3
   },
   "file_extension": ".py",
   "mimetype": "text/x-python",
   "name": "python",
   "nbconvert_exporter": "python",
   "pygments_lexer": "ipython3",
   "version": "3.6.1"
  }
 },
 "nbformat": 4,
 "nbformat_minor": 2
}
