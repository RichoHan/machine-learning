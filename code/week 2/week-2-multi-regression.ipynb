{
 "cells": [
  {
   "cell_type": "code",
   "execution_count": 1,
   "metadata": {
    "collapsed": true,
    "hideCode": false,
    "hidePrompt": false
   },
   "outputs": [],
   "source": [
    "import pandas as pd\n",
    "import numpy as np\n",
    "\n",
    "from sklearn import linear_model"
   ]
  },
  {
   "cell_type": "markdown",
   "metadata": {
    "hideCode": false,
    "hidePrompt": false
   },
   "source": [
    "## Steps 1 & 2\n",
    "1. Read data\n",
    "2. Split them into training and testing data"
   ]
  },
  {
   "cell_type": "code",
   "execution_count": 2,
   "metadata": {
    "collapsed": true,
    "hideCode": false,
    "hidePrompt": false
   },
   "outputs": [],
   "source": [
    "train_data = pd.read_csv('data/kc_house_train_data.csv')\n",
    "test_data = pd.read_csv('data/kc_house_test_data.csv')"
   ]
  },
  {
   "cell_type": "markdown",
   "metadata": {
    "hideCode": false,
    "hidePrompt": false
   },
   "source": [
    "## Step 3\n",
    "- Feature transformation"
   ]
  },
  {
   "cell_type": "code",
   "execution_count": 3,
   "metadata": {
    "collapsed": true,
    "hideCode": false,
    "hidePrompt": false,
    "scrolled": true
   },
   "outputs": [],
   "source": [
    "train_data['bedrooms_squared'] = train_data['bedrooms']**2\n",
    "train_data['bed_bath_rooms'] = train_data['bedrooms']*train_data['bathrooms']\n",
    "train_data['log_sqft_living'] = np.log(train_data['sqft_living'])\n",
    "train_data['lat_plus_long'] = train_data['lat'] + train_data['long']\n",
    "\n",
    "test_data['bedrooms_squared'] = test_data['bedrooms']**2\n",
    "test_data['bed_bath_rooms'] = test_data['bedrooms']*test_data['bathrooms']\n",
    "test_data['log_sqft_living'] = np.log(test_data['sqft_living'])\n",
    "test_data['lat_plus_long'] = test_data['lat'] + test_data['long']"
   ]
  },
  {
   "cell_type": "markdown",
   "metadata": {
    "hideCode": false,
    "hidePrompt": false
   },
   "source": [
    "## Step 4\n",
    "- Calculate the mean of the each of the 4 new variables."
   ]
  },
  {
   "cell_type": "code",
   "execution_count": 4,
   "metadata": {
    "hideCode": false,
    "hidePrompt": false
   },
   "outputs": [
    {
     "data": {
      "text/plain": [
       "bedrooms_squared    12.45\n",
       "bed_bath_rooms       7.50\n",
       "log_sqft_living      7.55\n",
       "lat_plus_long      -74.65\n",
       "dtype: float64"
      ]
     },
     "execution_count": 4,
     "metadata": {},
     "output_type": "execute_result"
    }
   ],
   "source": [
    "test_data.loc[:, 'bedrooms_squared':'lat_plus_long'].mean().round(2)"
   ]
  },
  {
   "cell_type": "markdown",
   "metadata": {
    "hideCode": false,
    "hidePrompt": false
   },
   "source": [
    "## Step 5\n",
    "- Implementing 3 different models"
   ]
  },
  {
   "cell_type": "code",
   "execution_count": 5,
   "metadata": {
    "hideCode": false,
    "hidePrompt": false,
    "scrolled": true
   },
   "outputs": [
    {
     "data": {
      "text/plain": [
       "LinearRegression(copy_X=True, fit_intercept=True, n_jobs=1, normalize=False)"
      ]
     },
     "execution_count": 5,
     "metadata": {},
     "output_type": "execute_result"
    }
   ],
   "source": [
    "feature_1 = train_data.loc[:, ['sqft_living', 'bedrooms', 'bathrooms', 'lat', 'long']]\n",
    "output = train_data.loc[:, 'price']\n",
    "model_1 = linear_model.LinearRegression()\n",
    "model_1.fit(feature_1, output)\n",
    "\n",
    "feature_2 = train_data.loc[:, ['sqft_living', 'bedrooms', 'bathrooms', 'lat', 'long', 'bed_bath_rooms']]\n",
    "model_2 = linear_model.LinearRegression()\n",
    "model_2.fit(feature_2, output)\n",
    "\n",
    "feature_3 = train_data.loc[:, [\n",
    "    'sqft_living', 'bedrooms', 'bathrooms', 'lat', 'long', 'bed_bath_rooms',\n",
    "    'bedrooms_squared', 'log_sqft_living', 'lat_plus_long'\n",
    "]]\n",
    "model_3 = linear_model.LinearRegression()\n",
    "model_3.fit(feature_3, output)"
   ]
  },
  {
   "cell_type": "markdown",
   "metadata": {
    "hideCode": false,
    "hidePrompt": false
   },
   "source": [
    "## Step 6\n",
    "Quiz Question:  What is the sign (positive or negative) for the coefficient/weight for ‘bathrooms’ in Model 1?"
   ]
  },
  {
   "cell_type": "code",
   "execution_count": 6,
   "metadata": {
    "hideCode": false,
    "hidePrompt": false
   },
   "outputs": [
    {
     "data": {
      "text/plain": [
       "array([  3.12258646e+02,  -5.95865332e+04,   1.57067421e+04,\n",
       "         6.58619264e+05,  -3.09374351e+05])"
      ]
     },
     "execution_count": 6,
     "metadata": {},
     "output_type": "execute_result"
    }
   ],
   "source": [
    "model_1.coef_"
   ]
  },
  {
   "cell_type": "markdown",
   "metadata": {
    "hideCode": false,
    "hidePrompt": false
   },
   "source": [
    "## Step 7\n",
    "Quiz Questions: What is the sign (positive or negative) for the coefficient/weight for ‘bathrooms’ in Model 2?"
   ]
  },
  {
   "cell_type": "code",
   "execution_count": 7,
   "metadata": {
    "hideCode": false,
    "hidePrompt": false,
    "scrolled": true
   },
   "outputs": [
    {
     "data": {
      "text/plain": [
       "array([  3.06610053e+02,  -1.13446368e+05,  -7.14613083e+04,\n",
       "         6.54844630e+05,  -2.94298969e+05,   2.55796520e+04])"
      ]
     },
     "execution_count": 7,
     "metadata": {},
     "output_type": "execute_result"
    }
   ],
   "source": [
    "model_2.coef_"
   ]
  },
  {
   "cell_type": "markdown",
   "metadata": {
    "hideCode": false,
    "hidePrompt": false
   },
   "source": [
    "## Step 9 & 10\n",
    "- Now using your three estimated models compute the RSS (Residual Sum of Squares) on the Training data.\n",
    "\n",
    "Quiz Question: Which model (1, 2 or 3) had the lowest RSS on TRAINING data?"
   ]
  },
  {
   "cell_type": "code",
   "execution_count": 14,
   "metadata": {
    "hideCode": false,
    "hidePrompt": false
   },
   "outputs": [
    {
     "name": "stdout",
     "output_type": "stream",
     "text": [
      "9.6787996305e+14\n",
      "9.58419635074e+14\n",
      "9.0343645505e+14\n"
     ]
    }
   ],
   "source": [
    "def get_residual_sum_of_squares(input_feature, output, model):\n",
    "    predicted_output = model.predict(input_feature)\n",
    "    RSS = sum((output - predicted_output) ** 2)\n",
    "    return RSS\n",
    "\n",
    "print(get_residual_sum_of_squares(feature_1, output, model_1))\n",
    "print(get_residual_sum_of_squares(feature_2, output, model_2))\n",
    "print(get_residual_sum_of_squares(feature_3, output, model_3))"
   ]
  },
  {
   "cell_type": "markdown",
   "metadata": {
    "hideCode": false,
    "hidePrompt": false
   },
   "source": [
    "## Step 11 & 12\n",
    "- Now using your three estimated models compute the RSS on the Testing data\n",
    "\n",
    "Quiz Question: Which model (1, 2, or 3) had the lowest RSS on TESTING data?"
   ]
  },
  {
   "cell_type": "code",
   "execution_count": 15,
   "metadata": {
    "hideCode": false,
    "hidePrompt": false
   },
   "outputs": [
    {
     "name": "stdout",
     "output_type": "stream",
     "text": [
      "2.25500469795e+14\n",
      "2.23377462976e+14\n",
      "2.59236319207e+14\n"
     ]
    }
   ],
   "source": [
    "output = test_data.loc[:, 'price']\n",
    "feature_1 = test_data.loc[:, ['sqft_living', 'bedrooms', 'bathrooms', 'lat', 'long']]\n",
    "feature_2 = test_data.loc[:, ['sqft_living', 'bedrooms', 'bathrooms', 'lat', 'long', 'bed_bath_rooms']]\n",
    "feature_3 = test_data.loc[:, [\n",
    "    'sqft_living', 'bedrooms', 'bathrooms', 'lat', 'long', 'bed_bath_rooms',\n",
    "    'bedrooms_squared', 'log_sqft_living', 'lat_plus_long'\n",
    "]]\n",
    "\n",
    "print(get_residual_sum_of_squares(feature_1, output, model_1))\n",
    "print(get_residual_sum_of_squares(feature_2, output, model_2))\n",
    "print(get_residual_sum_of_squares(feature_3, output, model_3))"
   ]
  }
 ],
 "metadata": {
  "hide_code_all_hidden": false,
  "kernelspec": {
   "display_name": "Python 3",
   "language": "python",
   "name": "python3"
  },
  "language_info": {
   "codemirror_mode": {
    "name": "ipython",
    "version": 3
   },
   "file_extension": ".py",
   "mimetype": "text/x-python",
   "name": "python",
   "nbconvert_exporter": "python",
   "pygments_lexer": "ipython3",
   "version": "3.6.1"
  }
 },
 "nbformat": 4,
 "nbformat_minor": 2
}
