{
 "cells": [
  {
   "cell_type": "code",
   "execution_count": 1,
   "metadata": {
    "collapsed": true,
    "hideCode": false,
    "hidePrompt": false
   },
   "outputs": [],
   "source": [
    "import pandas as pd\n",
    "import numpy as np\n",
    "\n",
    "from sklearn import linear_model"
   ]
  },
  {
   "cell_type": "markdown",
   "metadata": {
    "hideCode": false,
    "hidePrompt": false
   },
   "source": [
    "## Steps 1 & 2\n",
    "1. Read data\n",
    "2. Split them into training and testing data"
   ]
  },
  {
   "cell_type": "code",
   "execution_count": 13,
   "metadata": {
    "collapsed": true,
    "hideCode": false,
    "hidePrompt": false
   },
   "outputs": [],
   "source": [
    "data = pd.read_csv('data/kc_house_data.csv')\n",
    "train_data = pd.read_csv('data/kc_house_train_data.csv')\n",
    "test_data = pd.read_csv('data/kc_house_test_data.csv')"
   ]
  },
  {
   "cell_type": "markdown",
   "metadata": {
    "hideCode": false,
    "hidePrompt": false
   },
   "source": [
    "## Step 3\n",
    "- Summarize data into matrix"
   ]
  },
  {
   "cell_type": "code",
   "execution_count": 14,
   "metadata": {
    "collapsed": true,
    "hideCode": false,
    "hidePrompt": false,
    "scrolled": true
   },
   "outputs": [],
   "source": [
    "def get_numpy_data(df, features, output):\n",
    "    df['constant'] = 1\n",
    "    features = ['constant'] + features\n",
    "    features_matrix = df.loc[:, features].as_matrix()\n",
    "    output_array = df.loc[:, output].as_matrix()\n",
    "    return features_matrix, output_array"
   ]
  },
  {
   "cell_type": "markdown",
   "metadata": {
    "hideCode": false,
    "hidePrompt": false
   },
   "source": [
    "## Step 4\n",
    "- Complete prediction function."
   ]
  },
  {
   "cell_type": "code",
   "execution_count": 139,
   "metadata": {
    "collapsed": true,
    "hideCode": false,
    "hidePrompt": false
   },
   "outputs": [],
   "source": [
    "def predict_outcome(feature_matrix, weights):\n",
    "    predictions = np.dot(feature_matrix, weights)\n",
    "    return predictions"
   ]
  },
  {
   "cell_type": "markdown",
   "metadata": {
    "hideCode": false,
    "hidePrompt": false
   },
   "source": [
    "## Step 5\n",
    "- Implementing function feature_derivative()"
   ]
  },
  {
   "cell_type": "code",
   "execution_count": 140,
   "metadata": {
    "collapsed": true,
    "hideCode": false,
    "hidePrompt": false
   },
   "outputs": [],
   "source": [
    "def feature_derivative(errors, feature):\n",
    "    derivative = 2 * np.dot(errors, feature)\n",
    "    return derivative"
   ]
  },
  {
   "cell_type": "markdown",
   "metadata": {
    "hideCode": false,
    "hidePrompt": false
   },
   "source": [
    "## Step 6\n",
    "- Implementing function regression_gradient_descent()"
   ]
  },
  {
   "cell_type": "code",
   "execution_count": 141,
   "metadata": {
    "collapsed": true,
    "hideCode": false,
    "hidePrompt": false
   },
   "outputs": [],
   "source": [
    "def regression_gradient_descent(feature_matrix, output, initial_weights, step_size, tolerance):\n",
    "    converged = False\n",
    "    weights = np.array(initial_weights)\n",
    "    t = 1\n",
    "    while not converged and t <= 10000:\n",
    "        # compute the predictions based on feature_matrix and weights:\n",
    "        predictions = predict_outcome(feature_matrix, weights)\n",
    "        \n",
    "        # compute the errors as predictions - output:\n",
    "        errors = predictions - output\n",
    "        \n",
    "        gradient_sum_squares = 0 # initialize the gradient\n",
    "        # while not converged, update each weight individually:\n",
    "        for i in range(len(weights)):\n",
    "            # Recall that feature_matrix[:, i] is the feature column associated with weights[i]\n",
    "            # compute the derivative for weight[i]:\n",
    "            derivative = feature_derivative(errors, feature_matrix[:, i])\n",
    "            \n",
    "            # add the squared derivative to the gradient magnitude\n",
    "            gradient_sum_squares += derivative**2\n",
    "            \n",
    "            # update the weight based on step size and derivative:\n",
    "            weights[i] = weights[i] - step_size * derivative\n",
    "            \n",
    "        gradient_magnitude = np.sqrt(gradient_sum_squares)\n",
    "        if gradient_magnitude < tolerance:\n",
    "            converged = True\n",
    "        t += 1\n",
    "        print('Round {0}: weights={1}, gradient_magnitude={2}'.format(t, weights, gradient_magnitude))\n",
    "    return weights"
   ]
  },
  {
   "cell_type": "markdown",
   "metadata": {
    "hideCode": false,
    "hidePrompt": false
   },
   "source": [
    "## Step 7 ~ 9\n",
    "- features: ‘sqft_living’\n",
    "- output: ‘price’\n",
    "- initial weights: -47000, 1 (intercept, sqft_living respectively)\n",
    "- step_size = 7e-12\n",
    "- tolerance = 2.5e7"
   ]
  },
  {
   "cell_type": "code",
   "execution_count": 108,
   "metadata": {
    "hideCode": false,
    "hidePrompt": false,
    "scrolled": true
   },
   "outputs": [
    {
     "name": "stdout",
     "output_type": "stream",
     "text": [
      "Round 2: weights=[-46999.85779866    354.86068692], gradient_magnitude=50551530784973.43\n",
      "Round 3: weights=[-46999.894732      262.96853716], gradient_magnitude=13127451026296.436\n",
      "Round 4: weights=[-46999.88514683    286.83150782], gradient_magnitude=3408996083241.053\n",
      "Round 5: weights=[-46999.88764179    280.63466326], gradient_magnitude=885263580285.0396\n",
      "Round 6: weights=[-46999.88699974    282.24388799], gradient_magnitude=229889265767.897\n",
      "Round 7: weights=[-46999.88717231    281.82599721], gradient_magnitude=59698688272.160286\n",
      "Round 8: weights=[-46999.88713334    281.93451699], gradient_magnitude=15502826425.34162\n",
      "Round 9: weights=[-46999.88714931    281.90633608], gradient_magnitude=4025844402.343505\n",
      "Round 10: weights=[-46999.88715101    281.91365423], gradient_magnitude=1045449748.3835757\n",
      "Round 11: weights=[-46999.88715641    281.91175382], gradient_magnitude=271487891.95332104\n",
      "Round 12: weights=[-46999.88716085    281.91224733], gradient_magnitude=70504114.84341839\n",
      "Round 13: weights=[-46999.88716555    281.91211918], gradient_magnitude=18320017.267528538\n"
     ]
    },
    {
     "data": {
      "text/plain": [
       "array([-46999.88716555,    281.91211918])"
      ]
     },
     "execution_count": 108,
     "metadata": {},
     "output_type": "execute_result"
    }
   ],
   "source": [
    "simple_features = ['sqft_living']\n",
    "my_output= 'price'\n",
    "simple_feature_matrix, output = get_numpy_data(train_data, simple_features, my_output)\n",
    "initial_weights = np.array([-47000., 1.])\n",
    "step_size = 7e-12\n",
    "tolerance = 2.5e7\n",
    "\n",
    "simple_weights = regression_gradient_descent(simple_feature_matrix, output, initial_weights, step_size, tolerance)\n",
    "simple_weights"
   ]
  },
  {
   "cell_type": "markdown",
   "metadata": {
    "hideCode": false,
    "hidePrompt": false
   },
   "source": [
    "## Step 10 & 11\n",
    "Quiz Question: What is the predicted price for the 1st house in the Test data set for model 1 (round to nearest dollar)?"
   ]
  },
  {
   "cell_type": "code",
   "execution_count": 116,
   "metadata": {
    "hideCode": false,
    "hidePrompt": false
   },
   "outputs": [
    {
     "data": {
      "text/plain": [
       "356134.44325500238"
      ]
     },
     "execution_count": 116,
     "metadata": {},
     "output_type": "execute_result"
    }
   ],
   "source": [
    "test_simple_feature_matrix, test_output = get_numpy_data(test_data, simple_features, my_output)\n",
    "simple_test_predictions = predict_outcome(test_simple_feature_matrix, simple_weights)\n",
    "simple_test_predictions[0]"
   ]
  },
  {
   "cell_type": "markdown",
   "metadata": {
    "hideCode": false,
    "hidePrompt": false
   },
   "source": [
    "## Step 12\n",
    "Compute rss for test data."
   ]
  },
  {
   "cell_type": "code",
   "execution_count": 117,
   "metadata": {
    "collapsed": true,
    "hideCode": false,
    "hidePrompt": false
   },
   "outputs": [],
   "source": [
    "def get_residual_sum_of_squares(output, predictions):\n",
    "    RSS = sum((output - predictions) ** 2)\n",
    "    return RSS"
   ]
  },
  {
   "cell_type": "code",
   "execution_count": 119,
   "metadata": {
    "hideCode": false,
    "hidePrompt": false
   },
   "outputs": [
    {
     "data": {
      "text/plain": [
       "275400044902128.78"
      ]
     },
     "execution_count": 119,
     "metadata": {},
     "output_type": "execute_result"
    }
   ],
   "source": [
    "simple_rss = get_residual_sum_of_squares(test_output, simple_test_predictions)\n",
    "simple_rss"
   ]
  },
  {
   "cell_type": "markdown",
   "metadata": {
    "hideCode": false,
    "hidePrompt": false
   },
   "source": [
    "## Step  12 ~15\n",
    "Quiz Question:  What is the predicted price for the 1st house in the TEST data set for model 2 (round to nearest dollar)?"
   ]
  },
  {
   "cell_type": "code",
   "execution_count": 142,
   "metadata": {
    "collapsed": true,
    "hideCode": false,
    "hidePrompt": false
   },
   "outputs": [],
   "source": [
    "model_features = ['sqft_living', 'sqft_living15']\n",
    "my_output = 'price'\n",
    "feature_matrix, output = get_numpy_data(train_data, model_features,my_output)\n",
    "initial_weights = np.array([-100000., 1., 1.])\n",
    "step_size = 4e-12\n",
    "tolerance = 1e9"
   ]
  },
  {
   "cell_type": "code",
   "execution_count": 143,
   "metadata": {
    "hideCode": false,
    "hidePrompt": false
   },
   "outputs": [
    {
     "name": "stdout",
     "output_type": "stream",
     "text": [
      "Round 2: weights=[-99999.91164747    217.89658257    196.92903734], gradient_magnitude=73072020556001.0\n",
      "Round 3: weights=[-99999.94015235    153.06856223    133.5056493 ], gradient_magnitude=22673220967534.742\n",
      "Round 4: weights=[-99999.93238686    175.56189878    150.58566314], gradient_magnitude=7060794583490.458\n",
      "Round 5: weights=[-99999.93584555    170.91513246    142.75832408], gradient_magnitude=2275682396587.625\n",
      "Round 6: weights=[-99999.93579816    174.63083061    142.71624195], gradient_magnitude=928984110636.1498\n",
      "Round 7: weights=[-99999.93681401    175.69887261    140.31809341], gradient_magnitude=656307431862.7946\n",
      "Round 8: weights=[-99999.93747645    177.53542414    138.70790836], gradient_magnitude=610615358663.3833\n",
      "Round 9: weights=[-99999.93822543    179.08218151    136.90918105], gradient_magnitude=593078772020.329\n",
      "Round 10: weights=[-99999.93892505    180.66860722    135.22345813], gradient_magnitude=578705926685.869\n",
      "Round 11: weights=[-99999.93961798    182.19370698    133.55591855], gradient_magnitude=564945682565.4803\n",
      "Round 12: weights=[-99999.94029152    183.68996817    131.93470889], gradient_magnitude=551538687674.9816\n",
      "Round 13: weights=[-99999.94095012    185.14845007    130.34986619], gradient_magnitude=538452428981.17944\n",
      "Round 14: weights=[-99999.94159289    186.57303432    128.80327675], gradient_magnitude=525676918665.5565\n",
      "Round 15: weights=[-99999.94222059    187.96359926    127.2931803 ], gradient_magnitude=513204549505.9786\n",
      "Round 16: weights=[-99999.94283347    189.32123923    125.81897544], gradient_magnitude=501028105997.0814\n",
      "Round 17: weights=[-99999.9434319     190.64664635    124.3797286 ], gradient_magnitude=489140564644.1247\n",
      "Round 18: weights=[-99999.94401623    191.940613      122.97463577], gradient_magnitude=477535070644.76385\n",
      "Round 19: weights=[-99999.94458678    193.20387659    121.60287872], gradient_magnitude=466204932037.81036\n",
      "Round 20: weights=[-99999.94514389    194.43716825    120.26366897], gradient_magnitude=455143615657.4448\n",
      "Round 21: weights=[-99999.94568787    195.64119826    118.95623353], gradient_magnitude=444344743347.6378\n",
      "Round 22: weights=[-99999.94621904    196.81666116    117.67981874], gradient_magnitude=433802088282.5726\n",
      "Round 23: weights=[-99999.9467377     197.96423467    116.43368853], gradient_magnitude=423509571375.9669\n",
      "Round 24: weights=[-99999.94724414    199.08458051    115.21712438], gradient_magnitude=413461257775.7427\n",
      "Round 25: weights=[-99999.94773866    200.17834469    114.02942479], gradient_magnitude=403651353441.88165\n",
      "Round 26: weights=[-99999.94822154    201.24615789    112.86990491], gradient_magnitude=394074201805.476\n",
      "Round 27: weights=[-99999.94869306    202.28863585    111.73789615], gradient_magnitude=384724280507.04816\n",
      "Round 28: weights=[-99999.94915348    203.30637966    110.63274576], gradient_magnitude=375596198212.2586\n",
      "Round 29: weights=[-99999.94960307    204.29997618    109.55381649], gradient_magnitude=366684691503.1621\n",
      "Round 30: weights=[-99999.95004208    205.26999834    108.50048622], gradient_magnitude=357984621843.2303\n",
      "Round 31: weights=[-99999.95047077    206.21700547    107.47214758], gradient_magnitude=349490972614.37415\n",
      "Round 32: weights=[-99999.95088938    207.14154362    106.46820761], gradient_magnitude=341198846224.2716\n",
      "Round 33: weights=[-99999.95129815    208.0441459     105.48808741], gradient_magnitude=333103461282.3274\n",
      "Round 34: weights=[-99999.95169731    208.92533278    104.53122184], gradient_magnitude=325200149842.63715\n",
      "Round 35: weights=[-99999.9520871     209.78561236    103.59705914], gradient_magnitude=317484354712.36426\n",
      "Round 36: weights=[-99999.95246773    210.62548068    102.68506066], gradient_magnitude=309951626823.98035\n",
      "Round 37: weights=[-99999.95283942    211.44542205    101.79470053], gradient_magnitude=302597622669.8501\n",
      "Round 38: weights=[-99999.95320238    212.24590924    100.92546534], gradient_magnitude=295418101797.6899\n",
      "Round 39: weights=[-99999.95355683    213.02740383    100.07685389], gradient_magnitude=288408924365.442\n",
      "Round 40: weights=[ -9.99999539e+04   2.13790356e+02   9.92483768e+01], gradient_magnitude=281566048754.1677\n",
      "Round 41: weights=[ -9.99999542e+04   2.14535207e+02   9.84395565e+01], gradient_magnitude=274885529237.5809\n",
      "Round 42: weights=[ -9.99999546e+04   2.15262385e+02   9.76499265e+01], gradient_magnitude=268363513706.86057\n",
      "Round 43: weights=[ -9.99999549e+04   2.15972310e+02   9.68790314e+01], gradient_magnitude=261996241449.46652\n",
      "Round 44: weights=[ -9.99999552e+04   2.16665391e+02   9.61264268e+01], gradient_magnitude=255780040980.63535\n",
      "Round 45: weights=[ -9.99999555e+04   2.17342027e+02   9.53916788e+01], gradient_magnitude=249711327926.3416\n",
      "Round 46: weights=[ -9.99999558e+04   2.18002610e+02   9.46743636e+01], gradient_magnitude=243786602956.47845\n",
      "Round 47: weights=[ -9.99999561e+04   2.18647519e+02   9.39740677e+01], gradient_magnitude=238002449767.0831\n",
      "Round 48: weights=[ -9.99999564e+04   2.19277128e+02   9.32903871e+01], gradient_magnitude=232355533110.43286\n",
      "Round 49: weights=[ -9.99999567e+04   2.19891797e+02   9.26229278e+01], gradient_magnitude=226842596871.8819\n",
      "Round 50: weights=[ -9.99999569e+04   2.20491883e+02   9.19713048e+01], gradient_magnitude=221460462192.32242\n",
      "Round 51: weights=[ -9.99999572e+04   2.21077732e+02   9.13351424e+01], gradient_magnitude=216206025635.20383\n",
      "Round 52: weights=[ -9.99999575e+04   2.21649680e+02   9.07140738e+01], gradient_magnitude=211076257397.02847\n",
      "Round 53: weights=[ -9.99999577e+04   2.22208058e+02   9.01077409e+01], gradient_magnitude=206068199560.3145\n",
      "Round 54: weights=[ -9.99999580e+04   2.22753187e+02   8.95157940e+01], gradient_magnitude=201178964388.0079\n",
      "Round 55: weights=[ -9.99999582e+04   2.23285383e+02   8.89378918e+01], gradient_magnitude=196405732658.358\n",
      "Round 56: weights=[ -9.99999585e+04   2.23804952e+02   8.83737010e+01], gradient_magnitude=191745752039.30682\n",
      "Round 57: weights=[ -9.99999587e+04   2.24312193e+02   8.78228965e+01], gradient_magnitude=187196335501.44205\n",
      "Round 58: weights=[ -9.99999589e+04   2.24807400e+02   8.72851604e+01], gradient_magnitude=182754859768.6066\n",
      "Round 59: weights=[ -9.99999591e+04   2.25290857e+02   8.67601829e+01], gradient_magnitude=178418763805.27106\n",
      "Round 60: weights=[ -9.99999594e+04   2.25762843e+02   8.62476611e+01], gradient_magnitude=174185547339.79532\n",
      "Round 61: weights=[ -9.99999596e+04   2.26223631e+02   8.57472996e+01], gradient_magnitude=170052769422.72305\n",
      "Round 62: weights=[ -9.99999598e+04   2.26673486e+02   8.52588098e+01], gradient_magnitude=166018047019.29044\n",
      "Round 63: weights=[ -9.99999600e+04   2.27112667e+02   8.47819101e+01], gradient_magnitude=162079053635.32095\n",
      "Round 64: weights=[ -9.99999602e+04   2.27541429e+02   8.43163254e+01], gradient_magnitude=158233517975.7295\n",
      "Round 65: weights=[ -9.99999604e+04   2.27960017e+02   8.38617873e+01], gradient_magnitude=154479222634.85034\n",
      "Round 66: weights=[ -9.99999605e+04   2.28368674e+02   8.34180338e+01], gradient_magnitude=150814002817.8423\n",
      "Round 67: weights=[ -9.99999607e+04   2.28767635e+02   8.29848088e+01], gradient_magnitude=147235745092.4271\n",
      "Round 68: weights=[ -9.99999609e+04   2.29157131e+02   8.25618627e+01], gradient_magnitude=143742386170.2492\n",
      "Round 69: weights=[ -9.99999611e+04   2.29537385e+02   8.21489515e+01], gradient_magnitude=140331911717.14197\n",
      "Round 70: weights=[ -9.99999612e+04   2.29908617e+02   8.17458372e+01], gradient_magnitude=137002355191.62927\n",
      "Round 71: weights=[ -9.99999614e+04   2.30271041e+02   8.13522873e+01], gradient_magnitude=133751796710.98032\n",
      "Round 72: weights=[ -9.99999616e+04   2.30624866e+02   8.09680749e+01], gradient_magnitude=130578361944.17181\n",
      "Round 73: weights=[ -9.99999617e+04   2.30970296e+02   8.05929784e+01], gradient_magnitude=127480221031.11278\n",
      "Round 74: weights=[ -9.99999619e+04   2.31307530e+02   8.02267816e+01], gradient_magnitude=124455587527.5152\n",
      "Round 75: weights=[ -9.99999620e+04   2.31636763e+02   7.98692732e+01], gradient_magnitude=121502717374.79822\n",
      "Round 76: weights=[ -9.99999622e+04   2.31958184e+02   7.95202472e+01], gradient_magnitude=118619907894.43094\n",
      "Round 77: weights=[ -9.99999623e+04   2.32271980e+02   7.91795023e+01], gradient_magnitude=115805496806.13918\n",
      "Round 78: weights=[ -9.99999625e+04   2.32578330e+02   7.88468420e+01], gradient_magnitude=113057861269.40172\n",
      "Round 79: weights=[ -9.99999626e+04   2.32877411e+02   7.85220745e+01], gradient_magnitude=110375416947.69357\n",
      "Round 80: weights=[ -9.99999628e+04   2.33169397e+02   7.82050126e+01], gradient_magnitude=107756617094.92612\n",
      "Round 81: weights=[ -9.99999629e+04   2.33454454e+02   7.78954733e+01], gradient_magnitude=105199951663.56937\n",
      "Round 82: weights=[ -9.99999630e+04   2.33732749e+02   7.75932783e+01], gradient_magnitude=102703946433.92609\n",
      "Round 83: weights=[ -9.99999631e+04   2.34004440e+02   7.72982532e+01], gradient_magnitude=100267162164.07445\n",
      "Round 84: weights=[ -9.99999633e+04   2.34269685e+02   7.70102280e+01], gradient_magnitude=97888193759.97116\n",
      "Round 85: weights=[ -9.99999634e+04   2.34528637e+02   7.67290366e+01], gradient_magnitude=95565669465.2518\n",
      "Round 86: weights=[ -9.99999635e+04   2.34781445e+02   7.64545168e+01], gradient_magnitude=93298250070.25021\n",
      "Round 87: weights=[ -9.99999636e+04   2.35028255e+02   7.61865103e+01], gradient_magnitude=91084628139.78375\n",
      "Round 88: weights=[ -9.99999637e+04   2.35269209e+02   7.59248626e+01], gradient_magnitude=88923527259.26762\n",
      "Round 89: weights=[ -9.99999638e+04   2.35504446e+02   7.56694229e+01], gradient_magnitude=86813701298.7043\n",
      "Round 90: weights=[ -9.99999639e+04   2.35734102e+02   7.54200438e+01], gradient_magnitude=84753933694.1485\n",
      "Round 91: weights=[ -9.99999640e+04   2.35958308e+02   7.51765815e+01], gradient_magnitude=82743036746.20937\n",
      "Round 92: weights=[ -9.99999641e+04   2.36177196e+02   7.49388957e+01], gradient_magnitude=80779850935.20724\n",
      "Round 93: weights=[ -9.99999642e+04   2.36390889e+02   7.47068493e+01], gradient_magnitude=78863244252.56595\n",
      "Round 94: weights=[ -9.99999643e+04   2.36599513e+02   7.44803085e+01], gradient_magnitude=76992111548.08311\n",
      "Round 95: weights=[ -9.99999644e+04   2.36803187e+02   7.42591427e+01], gradient_magnitude=75165373892.67554\n",
      "Round 96: weights=[ -9.99999645e+04   2.37002028e+02   7.40432243e+01], gradient_magnitude=73381977956.25313\n",
      "Round 97: weights=[ -9.99999646e+04   2.37196152e+02   7.38324289e+01], gradient_magnitude=71640895400.34592\n",
      "Round 98: weights=[ -9.99999647e+04   2.37385670e+02   7.36266349e+01], gradient_magnitude=69941122285.14937\n",
      "Round 99: weights=[ -9.99999648e+04   2.37570691e+02   7.34257236e+01], gradient_magnitude=68281678490.63026\n",
      "Round 100: weights=[ -9.99999649e+04   2.37751322e+02   7.32295791e+01], gradient_magnitude=66661607151.37536\n",
      "Round 101: weights=[ -9.99999650e+04   2.37927668e+02   7.30380885e+01], gradient_magnitude=65079974104.84149\n",
      "Round 102: weights=[ -9.99999650e+04   2.38099829e+02   7.28511412e+01], gradient_magnitude=63535867352.7065\n",
      "Round 103: weights=[ -9.99999651e+04   2.38267906e+02   7.26686295e+01], gradient_magnitude=62028396534.98573\n",
      "Round 104: weights=[ -9.99999652e+04   2.38431995e+02   7.24904481e+01], gradient_magnitude=60556692416.644646\n",
      "Round 105: weights=[ -9.99999653e+04   2.38592191e+02   7.23164943e+01], gradient_magnitude=59119906386.37247\n",
      "Round 106: weights=[ -9.99999654e+04   2.38748586e+02   7.21466678e+01], gradient_magnitude=57717209967.26462\n",
      "Round 107: weights=[ -9.99999654e+04   2.38901270e+02   7.19808706e+01], gradient_magnitude=56347794339.10448\n",
      "Round 108: weights=[ -9.99999655e+04   2.39050332e+02   7.18190072e+01], gradient_magnitude=55010869871.98289\n",
      "Round 109: weights=[ -9.99999656e+04   2.39195857e+02   7.16609842e+01], gradient_magnitude=53705665670.983765\n",
      "Round 110: weights=[ -9.99999656e+04   2.39337929e+02   7.15067105e+01], gradient_magnitude=52431429131.67364\n",
      "Round 111: weights=[ -9.99999657e+04   2.39476630e+02   7.13560971e+01], gradient_magnitude=51187425506.13397\n",
      "Round 112: weights=[ -9.99999658e+04   2.39612040e+02   7.12090573e+01], gradient_magnitude=49972937479.2928\n",
      "Round 113: weights=[ -9.99999658e+04   2.39744238e+02   7.10655061e+01], gradient_magnitude=48787264755.308235\n",
      "Round 114: weights=[ -9.99999659e+04   2.39873299e+02   7.09253609e+01], gradient_magnitude=47629723653.76615\n",
      "Round 115: weights=[ -9.99999660e+04   2.39999298e+02   7.07885409e+01], gradient_magnitude=46499646715.45525\n",
      "Round 116: weights=[ -9.99999660e+04   2.40122308e+02   7.06549670e+01], gradient_magnitude=45396382317.49997\n",
      "Round 117: weights=[ -9.99999661e+04   2.40242399e+02   7.05245624e+01], gradient_magnitude=44319294297.62139\n",
      "Round 118: weights=[ -9.99999661e+04   2.40359640e+02   7.03972518e+01], gradient_magnitude=43267761587.31755\n",
      "Round 119: weights=[ -9.99999662e+04   2.40474100e+02   7.02729618e+01], gradient_magnitude=42241177853.73859\n",
      "Round 120: weights=[ -9.99999662e+04   2.40585844e+02   7.01516207e+01], gradient_magnitude=41238951150.070625\n",
      "Round 121: weights=[ -9.99999663e+04   2.40694937e+02   7.00331586e+01], gradient_magnitude=40260503574.20385\n",
      "Round 122: weights=[ -9.99999663e+04   2.40801442e+02   6.99175072e+01], gradient_magnitude=39305270935.503685\n",
      "Round 123: weights=[ -9.99999664e+04   2.40905419e+02   6.98045997e+01], gradient_magnitude=38372702429.4924\n",
      "Round 124: weights=[ -9.99999664e+04   2.41006930e+02   6.96943712e+01], gradient_magnitude=37462260320.24196\n",
      "Round 125: weights=[ -9.99999665e+04   2.41106032e+02   6.95867579e+01], gradient_magnitude=36573419630.30508\n",
      "Round 126: weights=[ -9.99999665e+04   2.41202783e+02   6.94816979e+01], gradient_magnitude=35705667838.00658\n",
      "Round 127: weights=[ -9.99999666e+04   2.41297238e+02   6.93791306e+01], gradient_magnitude=34858504581.91013\n",
      "Round 128: weights=[ -9.99999666e+04   2.41389452e+02   6.92789969e+01], gradient_magnitude=34031441372.30596\n",
      "Round 129: weights=[ -9.99999667e+04   2.41479478e+02   6.91812389e+01], gradient_magnitude=33224001309.535263\n",
      "Round 130: weights=[ -9.99999667e+04   2.41567369e+02   6.90858004e+01], gradient_magnitude=32435718808.99921\n",
      "Round 131: weights=[ -9.99999668e+04   2.41653173e+02   6.89926263e+01], gradient_magnitude=31666139332.700336\n",
      "Round 132: weights=[ -9.99999668e+04   2.41736943e+02   6.89016628e+01], gradient_magnitude=30914819127.143402\n",
      "Round 133: weights=[ -9.99999668e+04   2.41818724e+02   6.88128576e+01], gradient_magnitude=30181324967.45857\n",
      "Round 134: weights=[ -9.99999669e+04   2.41898565e+02   6.87261594e+01], gradient_magnitude=29465233907.60055\n",
      "Round 135: weights=[ -9.99999669e+04   2.41976512e+02   6.86415182e+01], gradient_magnitude=28766133036.46518\n",
      "Round 136: weights=[ -9.99999670e+04   2.42052610e+02   6.85588853e+01], gradient_magnitude=28083619239.800507\n",
      "Round 137: weights=[ -9.99999670e+04   2.42126902e+02   6.84782129e+01], gradient_magnitude=27417298967.761795\n",
      "Round 138: weights=[ -9.99999670e+04   2.42199431e+02   6.83994546e+01], gradient_magnitude=26766788007.985466\n",
      "Round 139: weights=[ -9.99999671e+04   2.42270240e+02   6.83225649e+01], gradient_magnitude=26131711264.04362\n",
      "Round 140: weights=[ -9.99999671e+04   2.42339368e+02   6.82474995e+01], gradient_magnitude=25511702539.15811\n",
      "Round 141: weights=[ -9.99999671e+04   2.42406856e+02   6.81742152e+01], gradient_magnitude=24906404325.04527\n",
      "Round 142: weights=[ -9.99999672e+04   2.42472743e+02   6.81026696e+01], gradient_magnitude=24315467595.765057\n",
      "Round 143: weights=[ -9.99999672e+04   2.42537067e+02   6.80328215e+01], gradient_magnitude=23738551606.47385\n",
      "Round 144: weights=[ -9.99999672e+04   2.42599865e+02   6.79646307e+01], gradient_magnitude=23175323696.94039\n",
      "Round 145: weights=[ -9.99999673e+04   2.42661172e+02   6.78980578e+01], gradient_magnitude=22625459099.72778\n",
      "Round 146: weights=[ -9.99999673e+04   2.42721025e+02   6.78330644e+01], gradient_magnitude=22088640752.928165\n",
      "Round 147: weights=[ -9.99999673e+04   2.42779458e+02   6.77696131e+01], gradient_magnitude=21564559117.339245\n",
      "Round 148: weights=[ -9.99999674e+04   2.42836505e+02   6.77076672e+01], gradient_magnitude=21052911997.975697\n",
      "Round 149: weights=[ -9.99999674e+04   2.42892198e+02   6.76471911e+01], gradient_magnitude=20553404369.821827\n",
      "Round 150: weights=[ -9.99999674e+04   2.42946570e+02   6.75881498e+01], gradient_magnitude=20065748207.711994\n",
      "Round 151: weights=[ -9.99999674e+04   2.42999651e+02   6.75305094e+01], gradient_magnitude=19589662320.251797\n",
      "Round 152: weights=[ -9.99999675e+04   2.43051473e+02   6.74742366e+01], gradient_magnitude=19124872187.676533\n",
      "Round 153: weights=[ -9.99999675e+04   2.43102066e+02   6.74192989e+01], gradient_magnitude=18671109803.556995\n",
      "Round 154: weights=[ -9.99999675e+04   2.43151458e+02   6.73656647e+01], gradient_magnitude=18228113520.26789\n",
      "Round 155: weights=[ -9.99999675e+04   2.43199679e+02   6.73133030e+01], gradient_magnitude=17795627898.110462\n",
      "Round 156: weights=[ -9.99999676e+04   2.43246755e+02   6.72621837e+01], gradient_magnitude=17373403558.02439\n",
      "Round 157: weights=[ -9.99999676e+04   2.43292714e+02   6.72122772e+01], gradient_magnitude=16961197037.791943\n",
      "Round 158: weights=[ -9.99999676e+04   2.43337583e+02   6.71635549e+01], gradient_magnitude=16558770651.649368\n",
      "Round 159: weights=[ -9.99999676e+04   2.43381388e+02   6.71159885e+01], gradient_magnitude=16165892353.238768\n",
      "Round 160: weights=[ -9.99999677e+04   2.43424153e+02   6.70695508e+01], gradient_magnitude=15782335601.80197\n",
      "Round 161: weights=[ -9.99999677e+04   2.43465903e+02   6.70242148e+01], gradient_magnitude=15407879231.5531\n",
      "Round 162: weights=[ -9.99999677e+04   2.43506663e+02   6.69799544e+01], gradient_magnitude=15042307324.152\n",
      "Round 163: weights=[ -9.99999677e+04   2.43546455e+02   6.69367442e+01], gradient_magnitude=14685409084.201153\n",
      "Round 164: weights=[ -9.99999678e+04   2.43585304e+02   6.68945593e+01], gradient_magnitude=14336978717.698202\n",
      "Round 165: weights=[ -9.99999678e+04   2.43623231e+02   6.68533752e+01], gradient_magnitude=13996815313.367458\n",
      "Round 166: weights=[ -9.99999678e+04   2.43660258e+02   6.68131682e+01], gradient_magnitude=13664722726.816198\n",
      "Round 167: weights=[ -9.99999678e+04   2.43696406e+02   6.67739153e+01], gradient_magnitude=13340509467.42983\n",
      "Round 168: weights=[ -9.99999678e+04   2.43731697e+02   6.67355936e+01], gradient_magnitude=13023988587.95997\n",
      "Round 169: weights=[ -9.99999679e+04   2.43766150e+02   6.66981812e+01], gradient_magnitude=12714977576.71981\n",
      "Round 170: weights=[ -9.99999679e+04   2.43799786e+02   6.66616564e+01], gradient_magnitude=12413298252.35163\n",
      "Round 171: weights=[ -9.99999679e+04   2.43832624e+02   6.66259983e+01], gradient_magnitude=12118776661.082474\n",
      "Round 172: weights=[ -9.99999679e+04   2.43864683e+02   6.65911862e+01], gradient_magnitude=11831242976.415247\n",
      "Round 173: weights=[ -9.99999679e+04   2.43895981e+02   6.65572000e+01], gradient_magnitude=11550531401.208408\n",
      "Round 174: weights=[ -9.99999679e+04   2.43926537e+02   6.65240202e+01], gradient_magnitude=11276480072.071606\n",
      "Round 175: weights=[ -9.99999680e+04   2.43956368e+02   6.64916276e+01], gradient_magnitude=11008930966.03509\n",
      "Round 176: weights=[ -9.99999680e+04   2.43985491e+02   6.64600036e+01], gradient_magnitude=10747729809.42773\n",
      "Round 177: weights=[ -9.99999680e+04   2.44013922e+02   6.64291299e+01], gradient_magnitude=10492725988.919327\n",
      "Round 178: weights=[ -9.99999680e+04   2.44041680e+02   6.63989888e+01], gradient_magnitude=10243772464.680527\n",
      "Round 179: weights=[ -9.99999680e+04   2.44068778e+02   6.63695627e+01], gradient_magnitude=10000725685.589094\n",
      "Round 180: weights=[ -9.99999680e+04   2.44095234e+02   6.63408349e+01], gradient_magnitude=9763445506.460941\n",
      "Round 181: weights=[ -9.99999681e+04   2.44121062e+02   6.63127886e+01], gradient_magnitude=9531795107.237291\n",
      "Round 182: weights=[ -9.99999681e+04   2.44146278e+02   6.62854078e+01], gradient_magnitude=9305640914.092901\n",
      "Round 183: weights=[ -9.99999681e+04   2.44170895e+02   6.62586766e+01], gradient_magnitude=9084852522.415876\n",
      "Round 184: weights=[ -9.99999681e+04   2.44194927e+02   6.62325797e+01], gradient_magnitude=8869302621.61071\n",
      "Round 185: weights=[ -9.99999681e+04   2.44218390e+02   6.62071019e+01], gradient_magnitude=8658866921.692028\n",
      "Round 186: weights=[ -9.99999681e+04   2.44241296e+02   6.61822287e+01], gradient_magnitude=8453424081.616567\n"
     ]
    },
    {
     "name": "stdout",
     "output_type": "stream",
     "text": [
      "Round 187: weights=[ -9.99999681e+04   2.44263659e+02   6.61579455e+01], gradient_magnitude=8252855639.31265\n",
      "Round 188: weights=[ -9.99999682e+04   2.44285491e+02   6.61342386e+01], gradient_magnitude=8057045943.374624\n",
      "Round 189: weights=[ -9.99999682e+04   2.44306805e+02   6.61110941e+01], gradient_magnitude=7865882086.378992\n",
      "Round 190: weights=[ -9.99999682e+04   2.44327613e+02   6.60884987e+01], gradient_magnitude=7679253839.776345\n",
      "Round 191: weights=[ -9.99999682e+04   2.44347928e+02   6.60664395e+01], gradient_magnitude=7497053590.330721\n",
      "Round 192: weights=[ -9.99999682e+04   2.44367760e+02   6.60449036e+01], gradient_magnitude=7319176278.071498\n",
      "Round 193: weights=[ -9.99999682e+04   2.44387122e+02   6.60238787e+01], gradient_magnitude=7145519335.711815\n",
      "Round 194: weights=[ -9.99999682e+04   2.44406025e+02   6.60033527e+01], gradient_magnitude=6975982629.506193\n",
      "Round 195: weights=[ -9.99999682e+04   2.44424479e+02   6.59833136e+01], gradient_magnitude=6810468401.5117445\n",
      "Round 196: weights=[ -9.99999683e+04   2.44442495e+02   6.59637500e+01], gradient_magnitude=6648881213.221741\n",
      "Round 197: weights=[ -9.99999683e+04   2.44460084e+02   6.59446506e+01], gradient_magnitude=6491127890.528771\n",
      "Round 198: weights=[ -9.99999683e+04   2.44477256e+02   6.59260043e+01], gradient_magnitude=6337117470.0044365\n",
      "Round 199: weights=[ -9.99999683e+04   2.44494020e+02   6.59078005e+01], gradient_magnitude=6186761146.444541\n",
      "Round 200: weights=[ -9.99999683e+04   2.44510386e+02   6.58900285e+01], gradient_magnitude=6039972221.663995\n",
      "Round 201: weights=[ -9.99999683e+04   2.44526364e+02   6.58726782e+01], gradient_magnitude=5896666054.503178\n",
      "Round 202: weights=[ -9.99999683e+04   2.44541963e+02   6.58557396e+01], gradient_magnitude=5756760012.025345\n",
      "Round 203: weights=[ -9.99999683e+04   2.44557192e+02   6.58392029e+01], gradient_magnitude=5620173421.8667965\n",
      "Round 204: weights=[ -9.99999683e+04   2.44572060e+02   6.58230585e+01], gradient_magnitude=5486827525.720504\n",
      "Round 205: weights=[ -9.99999684e+04   2.44586574e+02   6.58072971e+01], gradient_magnitude=5356645433.921987\n",
      "Round 206: weights=[ -9.99999684e+04   2.44600745e+02   6.57919098e+01], gradient_magnitude=5229552081.114508\n",
      "Round 207: weights=[ -9.99999684e+04   2.44614579e+02   6.57768875e+01], gradient_magnitude=5105474182.963515\n",
      "Round 208: weights=[ -9.99999684e+04   2.44628085e+02   6.57622216e+01], gradient_magnitude=4984340193.900625\n",
      "Round 209: weights=[ -9.99999684e+04   2.44641270e+02   6.57479037e+01], gradient_magnitude=4866080265.869542\n",
      "Round 210: weights=[ -9.99999684e+04   2.44654143e+02   6.57339255e+01], gradient_magnitude=4750626208.048185\n",
      "Round 211: weights=[ -9.99999684e+04   2.44666710e+02   6.57202790e+01], gradient_magnitude=4637911447.531722\n",
      "Round 212: weights=[ -9.99999684e+04   2.44678979e+02   6.57069562e+01], gradient_magnitude=4527870990.942934\n",
      "Round 213: weights=[ -9.99999684e+04   2.44690957e+02   6.56939495e+01], gradient_magnitude=4420441386.957284\n",
      "Round 214: weights=[ -9.99999684e+04   2.44702651e+02   6.56812515e+01], gradient_magnitude=4315560689.715333\n",
      "Round 215: weights=[ -9.99999685e+04   2.44714067e+02   6.56688547e+01], gradient_magnitude=4213168423.1022944\n",
      "Round 216: weights=[ -9.99999685e+04   2.44725213e+02   6.56567520e+01], gradient_magnitude=4113205545.879683\n",
      "Round 217: weights=[ -9.99999685e+04   2.44736094e+02   6.56449365e+01], gradient_magnitude=4015614417.6375976\n",
      "Round 218: weights=[ -9.99999685e+04   2.44746717e+02   6.56334014e+01], gradient_magnitude=3920338765.5600853\n",
      "Round 219: weights=[ -9.99999685e+04   2.44757088e+02   6.56221399e+01], gradient_magnitude=3827323651.9757724\n",
      "Round 220: weights=[ -9.99999685e+04   2.44767212e+02   6.56111456e+01], gradient_magnitude=3736515442.6828036\n",
      "Round 221: weights=[ -9.99999685e+04   2.44777097e+02   6.56004122e+01], gradient_magnitude=3647861776.019847\n",
      "Round 222: weights=[ -9.99999685e+04   2.44786747e+02   6.55899334e+01], gradient_magnitude=3561311532.6724005\n",
      "Round 223: weights=[ -9.99999685e+04   2.44796168e+02   6.55797033e+01], gradient_magnitude=3476814806.199954\n",
      "Round 224: weights=[ -9.99999685e+04   2.44805365e+02   6.55697159e+01], gradient_magnitude=3394322874.2545404\n",
      "Round 225: weights=[ -9.99999685e+04   2.44814345e+02   6.55599654e+01], gradient_magnitude=3313788170.4928937\n",
      "Round 226: weights=[ -9.99999685e+04   2.44823111e+02   6.55504463e+01], gradient_magnitude=3235164257.142077\n",
      "Round 227: weights=[ -9.99999686e+04   2.44831669e+02   6.55411530e+01], gradient_magnitude=3158405798.2262387\n",
      "Round 228: weights=[ -9.99999686e+04   2.44840024e+02   6.55320803e+01], gradient_magnitude=3083468533.425054\n",
      "Round 229: weights=[ -9.99999686e+04   2.44848181e+02   6.55232228e+01], gradient_magnitude=3010309252.551151\n",
      "Round 230: weights=[ -9.99999686e+04   2.44856145e+02   6.55145754e+01], gradient_magnitude=2938885770.6348124\n",
      "Round 231: weights=[ -9.99999686e+04   2.44863919e+02   6.55061333e+01], gradient_magnitude=2869156903.600767\n",
      "Round 232: weights=[ -9.99999686e+04   2.44871509e+02   6.54978914e+01], gradient_magnitude=2801082444.5187407\n",
      "Round 233: weights=[ -9.99999686e+04   2.44878919e+02   6.54898451e+01], gradient_magnitude=2734623140.4185705\n",
      "Round 234: weights=[ -9.99999686e+04   2.44886153e+02   6.54819896e+01], gradient_magnitude=2669740669.6602936\n",
      "Round 235: weights=[ -9.99999686e+04   2.44893216e+02   6.54743206e+01], gradient_magnitude=2606397619.832509\n",
      "Round 236: weights=[ -9.99999686e+04   2.44900111e+02   6.54668335e+01], gradient_magnitude=2544557466.1835837\n",
      "Round 237: weights=[ -9.99999686e+04   2.44906842e+02   6.54595241e+01], gradient_magnitude=2484184550.559319\n",
      "Round 238: weights=[ -9.99999686e+04   2.44913414e+02   6.54523881e+01], gradient_magnitude=2425244060.839265\n",
      "Round 239: weights=[ -9.99999686e+04   2.44919829e+02   6.54454214e+01], gradient_magnitude=2367702010.8673487\n",
      "Round 240: weights=[ -9.99999686e+04   2.44926093e+02   6.54386200e+01], gradient_magnitude=2311525220.8529873\n",
      "Round 241: weights=[ -9.99999687e+04   2.44932208e+02   6.54319799e+01], gradient_magnitude=2256681298.240586\n",
      "Round 242: weights=[ -9.99999687e+04   2.44938178e+02   6.54254975e+01], gradient_magnitude=2203138619.02696\n",
      "Round 243: weights=[ -9.99999687e+04   2.44944006e+02   6.54191688e+01], gradient_magnitude=2150866309.533153\n",
      "Round 244: weights=[ -9.99999687e+04   2.44949696e+02   6.54129902e+01], gradient_magnitude=2099834228.5950558\n",
      "Round 245: weights=[ -9.99999687e+04   2.44955250e+02   6.54069583e+01], gradient_magnitude=2050012950.1898491\n",
      "Round 246: weights=[ -9.99999687e+04   2.44960673e+02   6.54010695e+01], gradient_magnitude=2001373746.4632323\n",
      "Round 247: weights=[ -9.99999687e+04   2.44965968e+02   6.53953204e+01], gradient_magnitude=1953888571.168214\n",
      "Round 248: weights=[ -9.99999687e+04   2.44971137e+02   6.53897077e+01], gradient_magnitude=1907530043.4897113\n",
      "Round 249: weights=[ -9.99999687e+04   2.44976183e+02   6.53842282e+01], gradient_magnitude=1862271432.2593942\n",
      "Round 250: weights=[ -9.99999687e+04   2.44981109e+02   6.53788787e+01], gradient_magnitude=1818086640.5410917\n",
      "Round 251: weights=[ -9.99999687e+04   2.44985919e+02   6.53736561e+01], gradient_magnitude=1774950190.5816495\n",
      "Round 252: weights=[ -9.99999687e+04   2.44990614e+02   6.53685574e+01], gradient_magnitude=1732837209.120989\n",
      "Round 253: weights=[ -9.99999687e+04   2.44995198e+02   6.53635797e+01], gradient_magnitude=1691723413.0491714\n",
      "Round 254: weights=[ -9.99999687e+04   2.44999673e+02   6.53587201e+01], gradient_magnitude=1651585095.4062173\n",
      "Round 255: weights=[ -9.99999687e+04   2.45004043e+02   6.53539758e+01], gradient_magnitude=1612399111.7082748\n",
      "Round 256: weights=[ -9.99999687e+04   2.45008308e+02   6.53493440e+01], gradient_magnitude=1574142866.6059358\n",
      "Round 257: weights=[ -9.99999688e+04   2.45012472e+02   6.53448222e+01], gradient_magnitude=1536794300.8545063\n",
      "Round 258: weights=[ -9.99999688e+04   2.45016538e+02   6.53404076e+01], gradient_magnitude=1500331878.5925722\n",
      "Round 259: weights=[ -9.99999688e+04   2.45020507e+02   6.53360978e+01], gradient_magnitude=1464734574.9259737\n",
      "Round 260: weights=[ -9.99999688e+04   2.45024381e+02   6.53318902e+01], gradient_magnitude=1429981863.8029912\n",
      "Round 261: weights=[ -9.99999688e+04   2.45028164e+02   6.53277825e+01], gradient_magnitude=1396053706.1796787\n",
      "Round 262: weights=[ -9.99999688e+04   2.45031857e+02   6.53237722e+01], gradient_magnitude=1362930538.4647603\n",
      "Round 263: weights=[ -9.99999688e+04   2.45035463e+02   6.53198571e+01], gradient_magnitude=1330593261.2382479\n",
      "Round 264: weights=[ -9.99999688e+04   2.45038983e+02   6.53160349e+01], gradient_magnitude=1299023228.2383568\n",
      "Round 265: weights=[ -9.99999688e+04   2.45042419e+02   6.53123033e+01], gradient_magnitude=1268202235.6118126\n",
      "Round 266: weights=[ -9.99999688e+04   2.45045774e+02   6.53086603e+01], gradient_magnitude=1238112511.415318\n",
      "Round 267: weights=[ -9.99999688e+04   2.45049049e+02   6.53051038e+01], gradient_magnitude=1208736705.3665018\n",
      "Round 268: weights=[ -9.99999688e+04   2.45052247e+02   6.53016316e+01], gradient_magnitude=1180057878.843346\n",
      "Round 269: weights=[ -9.99999688e+04   2.45055369e+02   6.52982418e+01], gradient_magnitude=1152059495.1134343\n",
      "Round 270: weights=[ -9.99999688e+04   2.45058416e+02   6.52949324e+01], gradient_magnitude=1124725409.8006146\n",
      "Round 271: weights=[ -9.99999688e+04   2.45061392e+02   6.52917015e+01], gradient_magnitude=1098039861.573763\n",
      "Round 272: weights=[ -9.99999688e+04   2.45064296e+02   6.52885473e+01], gradient_magnitude=1071987463.0640005\n",
      "Round 273: weights=[ -9.99999688e+04   2.45067132e+02   6.52854680e+01], gradient_magnitude=1046553191.983889\n",
      "Round 274: weights=[ -9.99999688e+04   2.45069901e+02   6.52824617e+01], gradient_magnitude=1021722382.4711721\n",
      "Round 275: weights=[ -9.99999688e+04   2.45072603e+02   6.52795267e+01], gradient_magnitude=997480716.6304686\n"
     ]
    },
    {
     "data": {
      "text/plain": [
       "array([ -9.99999688e+04,   2.45072603e+02,   6.52795267e+01])"
      ]
     },
     "execution_count": 143,
     "metadata": {},
     "output_type": "execute_result"
    }
   ],
   "source": [
    "model_weights = regression_gradient_descent(feature_matrix, output, initial_weights, step_size, tolerance)\n",
    "model_weights"
   ]
  },
  {
   "cell_type": "code",
   "execution_count": 144,
   "metadata": {
    "hideCode": false,
    "hidePrompt": false
   },
   "outputs": [
    {
     "data": {
      "text/plain": [
       "366651.41162949387"
      ]
     },
     "execution_count": 144,
     "metadata": {},
     "output_type": "execute_result"
    }
   ],
   "source": [
    "test_model_feature_matrix, test_output = get_numpy_data(test_data, model_features, my_output)\n",
    "model_test_predictions = predict_outcome(test_model_feature_matrix, model_weights)\n",
    "model_test_predictions[0]"
   ]
  },
  {
   "cell_type": "code",
   "execution_count": 145,
   "metadata": {
    "hideCode": false,
    "hidePrompt": false
   },
   "outputs": [
    {
     "data": {
      "text/plain": [
       "310000.0"
      ]
     },
     "execution_count": 145,
     "metadata": {},
     "output_type": "execute_result"
    }
   ],
   "source": [
    "test_output[0]"
   ]
  },
  {
   "cell_type": "markdown",
   "metadata": {
    "hideCode": false,
    "hidePrompt": false
   },
   "source": [
    "## Step 17\n",
    "Quiz Question: Which estimate was closer to the true price for the 1st house on the TEST data set, model 1 or model 2?"
   ]
  },
  {
   "cell_type": "markdown",
   "metadata": {
    "hideCode": false,
    "hidePrompt": false
   },
   "source": [
    "## Step 18 & 19\n",
    "Quiz Question: Which model (1 or 2) has lowest RSS on all of the TEST data?"
   ]
  },
  {
   "cell_type": "code",
   "execution_count": 146,
   "metadata": {
    "hideCode": false,
    "hidePrompt": false
   },
   "outputs": [
    {
     "data": {
      "text/plain": [
       "270263443629803.31"
      ]
     },
     "execution_count": 146,
     "metadata": {},
     "output_type": "execute_result"
    }
   ],
   "source": [
    "model_rss = get_residual_sum_of_squares(test_output, model_test_predictions)\n",
    "model_rss"
   ]
  },
  {
   "cell_type": "code",
   "execution_count": 147,
   "metadata": {
    "hideCode": false,
    "hidePrompt": false
   },
   "outputs": [
    {
     "data": {
      "text/plain": [
       "True"
      ]
     },
     "execution_count": 147,
     "metadata": {},
     "output_type": "execute_result"
    }
   ],
   "source": [
    "model_rss < simple_rss"
   ]
  }
 ],
 "metadata": {
  "hide_code_all_hidden": false,
  "kernelspec": {
   "display_name": "Python 3",
   "language": "python",
   "name": "python3"
  },
  "language_info": {
   "codemirror_mode": {
    "name": "ipython",
    "version": 3
   },
   "file_extension": ".py",
   "mimetype": "text/x-python",
   "name": "python",
   "nbconvert_exporter": "python",
   "pygments_lexer": "ipython3",
   "version": "3.6.1"
  }
 },
 "nbformat": 4,
 "nbformat_minor": 2
}
