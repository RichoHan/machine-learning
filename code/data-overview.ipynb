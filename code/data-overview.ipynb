{
 "cells": [
  {
   "cell_type": "code",
   "execution_count": 1,
   "metadata": {
    "collapsed": true
   },
   "outputs": [],
   "source": [
    "%matplotlib inline\n",
    "import matplotlib.pyplot as plt\n",
    "import numpy as np\n",
    "import pandas as pd\n",
    "\n",
    "from task_io import TaskIO\n",
    "\n",
    "plt.style.use('seaborn-whitegrid')\n",
    "\n",
    "class Session2TaskIO(TaskIO):\n",
    "    def get_processed_training(self):\n",
    "        pass\n",
    "\n",
    "    def get_processed_testing(self):\n",
    "        pass\n",
    "\n",
    "task_io = Session2TaskIO(\n",
    "    train='./data/spam_train.csv',\n",
    "    test='./data/spam_test.csv',\n",
    "    result='./data/submission.csv',\n",
    "    validation_path='./data/validation.csv'\n",
    ")"
   ]
  },
  {
   "cell_type": "code",
   "execution_count": 4,
   "metadata": {},
   "outputs": [],
   "source": [
    "training_data = task_io.import_training_data()\n"
   ]
  },
  {
   "cell_type": "code",
   "execution_count": null,
   "metadata": {
    "collapsed": true
   },
   "outputs": [],
   "source": []
  }
 ],
 "metadata": {
  "kernelspec": {
   "display_name": "Python 3",
   "language": "python",
   "name": "python3"
  },
  "language_info": {
   "codemirror_mode": {
    "name": "ipython",
    "version": 3
   },
   "file_extension": ".py",
   "mimetype": "text/x-python",
   "name": "python",
   "nbconvert_exporter": "python",
   "pygments_lexer": "ipython3",
   "version": "3.6.1"
  }
 },
 "nbformat": 4,
 "nbformat_minor": 2
}
